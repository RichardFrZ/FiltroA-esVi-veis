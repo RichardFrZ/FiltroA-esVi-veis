{
  "nbformat": 4,
  "nbformat_minor": 0,
  "metadata": {
    "colab": {
      "provenance": [],
      "include_colab_link": true
    },
    "kernelspec": {
      "name": "python3",
      "display_name": "Python 3"
    },
    "language_info": {
      "name": "python"
    }
  },
  "cells": [
    {
      "cell_type": "markdown",
      "metadata": {
        "id": "view-in-github",
        "colab_type": "text"
      },
      "source": [
        "<a href=\"https://colab.research.google.com/github/RichardFrZ/FiltroAcoesViaveis/blob/main/Filtro_de_a%C3%A7%C3%B5es_vi%C3%A1veis.ipynb\" target=\"_parent\"><img src=\"https://colab.research.google.com/assets/colab-badge.svg\" alt=\"Open In Colab\"/></a>"
      ]
    },
    {
      "cell_type": "code",
      "execution_count": 1,
      "metadata": {
        "id": "YbV_f7gClqpw",
        "collapsed": true,
        "colab": {
          "base_uri": "https://localhost:8080/"
        },
        "cellView": "form",
        "outputId": "39ffc291-f30f-4657-afdf-78c7827d35c2"
      },
      "outputs": [
        {
          "output_type": "stream",
          "name": "stdout",
          "text": [
            "Requirement already satisfied: investpy in /usr/local/lib/python3.10/dist-packages (1.0.8)\n",
            "Requirement already satisfied: Unidecode>=1.1.1 in /usr/local/lib/python3.10/dist-packages (from investpy) (1.3.8)\n",
            "Requirement already satisfied: setuptools>=41.2.0 in /usr/local/lib/python3.10/dist-packages (from investpy) (71.0.4)\n",
            "Requirement already satisfied: numpy>=1.17.2 in /usr/local/lib/python3.10/dist-packages (from investpy) (1.26.4)\n",
            "Requirement already satisfied: pandas>=0.25.1 in /usr/local/lib/python3.10/dist-packages (from investpy) (2.1.4)\n",
            "Requirement already satisfied: lxml>=4.4.1 in /usr/local/lib/python3.10/dist-packages (from investpy) (4.9.4)\n",
            "Requirement already satisfied: requests>=2.22.0 in /usr/local/lib/python3.10/dist-packages (from investpy) (2.32.3)\n",
            "Requirement already satisfied: pytz>=2019.3 in /usr/local/lib/python3.10/dist-packages (from investpy) (2024.1)\n",
            "Requirement already satisfied: python-dateutil>=2.8.2 in /usr/local/lib/python3.10/dist-packages (from pandas>=0.25.1->investpy) (2.8.2)\n",
            "Requirement already satisfied: tzdata>=2022.1 in /usr/local/lib/python3.10/dist-packages (from pandas>=0.25.1->investpy) (2024.1)\n",
            "Requirement already satisfied: charset-normalizer<4,>=2 in /usr/local/lib/python3.10/dist-packages (from requests>=2.22.0->investpy) (3.3.2)\n",
            "Requirement already satisfied: idna<4,>=2.5 in /usr/local/lib/python3.10/dist-packages (from requests>=2.22.0->investpy) (3.7)\n",
            "Requirement already satisfied: urllib3<3,>=1.21.1 in /usr/local/lib/python3.10/dist-packages (from requests>=2.22.0->investpy) (2.0.7)\n",
            "Requirement already satisfied: certifi>=2017.4.17 in /usr/local/lib/python3.10/dist-packages (from requests>=2.22.0->investpy) (2024.7.4)\n",
            "Requirement already satisfied: six>=1.5 in /usr/local/lib/python3.10/dist-packages (from python-dateutil>=2.8.2->pandas>=0.25.1->investpy) (1.16.0)\n"
          ]
        }
      ],
      "source": [
        "# @title Importar bibliotecas\n",
        "!pip install investpy\n",
        "import yfinance as yf\n",
        "import pandas as pd\n",
        "from datetime import datetime\n",
        "from gspread_dataframe import set_with_dataframe as s\n",
        "import pandas as pd\n",
        "import gspread\n",
        "from google.colab import auth\n",
        "auth.authenticate_user()\n",
        "import investpy"
      ]
    },
    {
      "cell_type": "code",
      "source": [
        "# @title Buscar os tickers(códigos) dos ativos Brasileiros\n",
        "\n",
        "# Importa a lista de ações disponíveis no Brasil usando a biblioteca investpy.\n",
        "lista = investpy.get_stocks(country='Brazil')\n",
        "\n",
        "# Cria uma lista com os símbolos das ações.\n",
        "symbol = lista['symbol'].tolist()\n"
      ],
      "metadata": {
        "id": "fXMDmxZHTuga",
        "cellView": "form"
      },
      "execution_count": 2,
      "outputs": []
    },
    {
      "cell_type": "code",
      "source": [
        "# @title Configurar os tickers e o período dos dados (geral)\n",
        "\n",
        "# Adiciona a extensão .SA nos ativos para a pesquisa.\n",
        "tickers = symbol\n",
        "tickers = [tickers + \".SA\" for tickers in tickers]\n",
        "\n",
        "# Define a data final como o ultimo dia do ano anterior.\n",
        "data_final = datetime(datetime.now().year - 1, 12, 31) - pd.DateOffset(years= 0)\n",
        "\n",
        "# Define a data inicial como 8 anos antes da data final.\n",
        "data_inicial = data_final - pd.DateOffset(years= 8)\n"
      ],
      "metadata": {
        "cellView": "form",
        "id": "MBTOk3-7RsSd"
      },
      "execution_count": 3,
      "outputs": []
    },
    {
      "cell_type": "code",
      "source": [
        "# @title Baixar dados dos ativos\n",
        "\n",
        "# Baixa os dados de dividendos.\n",
        "dados = yf.download(tickers=tickers, start=data_inicial, end=data_final, actions=True)[\"Dividends\"]"
      ],
      "metadata": {
        "colab": {
          "base_uri": "https://localhost:8080/"
        },
        "collapsed": true,
        "cellView": "form",
        "id": "rxk7_YR5T33R",
        "outputId": "8e0448d7-13da-4f6e-efde-c8c0d00f5110"
      },
      "execution_count": 4,
      "outputs": [
        {
          "output_type": "stream",
          "name": "stderr",
          "text": [
            "[*****                 10%%                      ]  71 of 747 completed"
          ]
        },
        {
          "output_type": "stream",
          "name": "stdout",
          "text": [
            "$ANIM3T.SA: possibly delisted; No price data found  (1d 2015-12-31 00:00:00 -> 2023-12-31 00:00:00)\n"
          ]
        },
        {
          "output_type": "stream",
          "name": "stderr",
          "text": [
            "[*****                 11%%                      ]  85 of 747 completed"
          ]
        },
        {
          "output_type": "stream",
          "name": "stdout",
          "text": [
            "$CPRE3T.SA: possibly delisted; No price data found  (1d 2015-12-31 00:00:00 -> 2023-12-31 00:00:00)\n"
          ]
        },
        {
          "output_type": "stream",
          "name": "stderr",
          "text": [
            "[**********************53%%                      ]  395 of 747 completed"
          ]
        },
        {
          "output_type": "stream",
          "name": "stdout",
          "text": [
            "$BBIM11.SA: possibly delisted; No price data found  (1d 2015-12-31 00:00:00 -> 2023-12-31 00:00:00)\n"
          ]
        },
        {
          "output_type": "stream",
          "name": "stderr",
          "text": [
            "[**********************59%%**                    ]  439 of 747 completed"
          ]
        },
        {
          "output_type": "stream",
          "name": "stdout",
          "text": [
            "$CVCB3T.SA: possibly delisted; No price data found  (1d 2015-12-31 00:00:00 -> 2023-12-31 00:00:00)\n"
          ]
        },
        {
          "output_type": "stream",
          "name": "stderr",
          "text": [
            "[**********************66%%******                ]  491 of 747 completed"
          ]
        },
        {
          "output_type": "stream",
          "name": "stdout",
          "text": [
            "$FISD11.SA: possibly delisted; No price data found  (1d 2015-12-31 00:00:00 -> 2023-12-31 00:00:00)\n"
          ]
        },
        {
          "output_type": "stream",
          "name": "stderr",
          "text": [
            "[**********************92%%******************    ]  688 of 747 completed"
          ]
        },
        {
          "output_type": "stream",
          "name": "stdout",
          "text": [
            "$SEER3T.SA: possibly delisted; No price data found  (1d 2015-12-31 00:00:00 -> 2023-12-31 00:00:00)\n"
          ]
        },
        {
          "output_type": "stream",
          "name": "stderr",
          "text": [
            "[**********************94%%*******************   ]  700 of 747 completed"
          ]
        },
        {
          "output_type": "stream",
          "name": "stdout",
          "text": [
            "$IGBR3.SA: possibly delisted; No price data found  (1d 2015-12-31 00:00:00 -> 2023-12-31 00:00:00)\n"
          ]
        },
        {
          "output_type": "stream",
          "name": "stderr",
          "text": [
            "[*********************100%%**********************]  747 of 747 completed\n",
            "ERROR:yfinance:\n",
            "169 Failed downloads:\n",
            "ERROR:yfinance:['CESP5.SA', 'BIDI4T.SA', 'ENMA3B.SA', 'MTIG4.SA', 'IDVL9.SA', 'ITEC3.SA', 'PARD3.SA', 'CCXC3.SA', 'IDNT3.SA', 'PRSN11B.SA', 'XPOM11.SA', 'MYPK12.SA', 'IGTA3.SA', 'POMO10.SA', 'SMLS3.SA', 'BSEV3.SA', 'ABCB10.SA', 'SEDU3.SA', 'JBDU2.SA', 'ELEK3.SA', 'ENBR3.SA', 'BIDI3.SA', 'CCPR3.SA', 'SFND11.SA', 'CELP5.SA', 'LAME3.SA', 'EEEL3.SA', 'JBDU3.SA', 'NATU3.SA', 'TCPF11.SA', 'CNTO3.SA', 'LBRN34.SA', 'HBTT11.SA', 'SULA11.SA', 'CESP6.SA', 'TASA15.SA', 'NVIF11B.SA', 'BTTL3.SA', 'AVON34.SA', 'ELEK4.SA', 'BRML3.SA', 'TWTR34.SA', 'MEND6.SA', 'WSON33.SA', 'MEND5.SA', 'EDFO11B.SA', 'SULA3.SA', 'TRPN3.SA', 'CELP7.SA', 'BMLC11B.SA', 'FAMB11B.SA', 'WTSP11B.SA', 'TIET2.SA', 'LAME4.SA', 'RDPD11.SA', 'IDVL3.SA', 'CHKE34.SA', 'BRHT11B.SA', 'GNDI3.SA', 'JRDM11.SA', 'TIFF34.SA', 'TIET11.SA', 'RLOG3.SA', 'VLJS11.SA', 'ANCR11B.SA', 'BIDI11.SA', 'CARD3.SA', 'TCR11.SA', 'DMMO3.SA', 'TORM13.SA', 'FEXC11.SA', 'TIET4.SA', 'TESA3.SA', 'VIVT4.SA', 'DMMO3T.SA', 'PNVL4.SA', 'PBLV11.SA', 'ELDO11B.SA', 'XTED11.SA', 'SMLS3T.SA', 'CPRE3.SA', 'TRXL11.SA', 'DRIT11B.SA', 'JPSA3.SA', 'ALSO3.SA', 'SPRN34.SA', 'SPRI3.SA', 'TCNO3.SA', 'CELP6.SA', 'CELP3.SA', 'SULA4.SA', 'PCAR4.SA', 'SQIA3.SA', 'LOGN12.SA', 'DAMT11B.SA', 'DOVL11B.SA', 'WIZS3.SA', 'MMXM3.SA', 'FBOK34.SA', 'TASA17.SA', 'BIDI4.SA', 'DMMO11.SA', 'OMGE3.SA', 'CLGN34.SA', 'TOYB3.SA', 'JBDU4.SA', 'RANI4.SA', 'FRTA3.SA', 'ATCR11.SA', 'CXCE11B.SA', 'CRDE3.SA', 'SPAF11.SA', 'BKBR3.SA', 'BMGB11.SA', 'UTEC34.SA', 'EEEL4.SA', 'BRDT3.SA', 'DTEX3.SA', 'BTOW3.SA', 'LIQO3.SA', 'TCNO4.SA', 'TIMP3.SA', 'SHDP11B.SA', 'VLOL11.SA', 'CESP3.SA', 'CAMB10.SA', 'ESUD11.SA', 'BEEF11.SA', 'CEPE5.SA', 'HGTX3.SA', 'BBRK3.SA', 'TOUR11.SA', 'GBIO33.SA', 'IDVL4.SA', 'JCPC34.SA', 'GESE11B.SA', 'ELPL3.SA', 'LINX3.SA', 'JBDU1.SA', 'PRTS11.SA', 'OUCY11.SA', 'FINF11.SA', 'TASA13.SA', 'TOYB4.SA', 'SDIP11.SA', 'CAMB4.SA', 'VVAR3.SA', 'TIET3.SA', 'FVBI11.SA', 'LLIS3.SA', 'BBFI11B.SA', 'LCAM3.SA', 'GPCP3.SA']: YFTzMissingError('$%ticker%: possibly delisted; No timezone found')\n",
            "ERROR:yfinance:['BMII11.SA', 'GFSA1.SA', 'MRSA6BF.SA', 'FNAM11.SA', 'SAIC11B.SA']: YFInvalidPeriodError(\"%ticker%: Period 'max' is invalid, must be one of ['1d', '5d']\")\n",
            "ERROR:yfinance:['ANIM3T.SA', 'CPRE3T.SA', 'BBIM11.SA', 'CVCB3T.SA', 'FISD11.SA', 'SEER3T.SA', 'IGBR3.SA']: YFPricesMissingError('$%ticker%: possibly delisted; No price data found  (1d 2015-12-31 00:00:00 -> 2023-12-31 00:00:00)')\n",
            "ERROR:yfinance:['VPSI11.SA', 'XPHT12.SA', 'FIIP11B.SA', 'INEP4.SA']: YFChartError(\"%ticker%: Data doesn't exist for startDate = 1451527200, endDate = 1703991600\")\n"
          ]
        }
      ]
    },
    {
      "cell_type": "code",
      "source": [
        "# @title Agrupa e filtra ativos que não distribuiram dividendos nos ultimos 5 anos\n",
        "\n",
        "# Agrupa o DataFrame por ano e soma os dividendos para cada ano.\n",
        "dados_agrupados = dados.groupby(dados.index.year).sum()\n",
        "\n",
        "# Seleciona os últimos 5 anos de dados.\n",
        "dados_agrupados = dados_agrupados.tail(5)\n",
        "\n",
        "# Identifica colunas (empresas) que possuem valores de dividendos distribuídos iguais a zero.\n",
        "df = dados_agrupados.columns[dados_agrupados.eq(0).any()]\n",
        "\n",
        "# Remove essas empresas do DataFrame 'dados_agrupados'.\n",
        "dados_agrupados = dados_agrupados.drop(columns=df)"
      ],
      "metadata": {
        "cellView": "form",
        "id": "R1wsP-PptN5D"
      },
      "execution_count": 5,
      "outputs": []
    },
    {
      "cell_type": "code",
      "source": [
        "# @title Cálculo preço teto\n",
        "\n",
        "# Calcula a média de dividendos para cada empresa restante.\n",
        "dados_agrupados = dados_agrupados.mean()\n",
        "\n",
        "# Calcula o preco teto dividindo o dividendo médio por 0.06 (6%) e arredondando para 2 casas decimais.\n",
        "preco_teto = round(dados_agrupados/0.06,2)"
      ],
      "metadata": {
        "cellView": "form",
        "id": "7grcrGA_U13Q"
      },
      "execution_count": 6,
      "outputs": []
    },
    {
      "cell_type": "code",
      "source": [
        "# @title Coletando o Preço Atual dos ativos\n",
        "\n",
        "#Busca os códigos dos ativos que foi possível calcular o preço teto.\n",
        "tickers_selecionados = dados_agrupados.index.tolist()\n",
        "\n",
        "#Busca os preços atuais dos ativos.\n",
        "preco_atual = yf.download(tickers = tickers_selecionados, period='1mo')['Close']\n",
        "\n",
        "#Seleciona apenas a última cotação.\n",
        "preco_atual = round(preco_atual.iloc[-1],2)"
      ],
      "metadata": {
        "colab": {
          "base_uri": "https://localhost:8080/"
        },
        "cellView": "form",
        "id": "aFr5HBM0giQ7",
        "outputId": "fa8ea8c7-61c3-4b8a-ed49-99d57360bf88"
      },
      "execution_count": 7,
      "outputs": [
        {
          "output_type": "stream",
          "name": "stderr",
          "text": [
            "[*********************100%%**********************]  276 of 276 completed\n"
          ]
        }
      ]
    },
    {
      "cell_type": "code",
      "source": [
        "# @title Cálculo da liquidez e cria filtro dos ativos\n",
        "\n",
        "#Busca a liquidez dos ativos em um período de 3 meses.\n",
        "dados_volume = yf.download(tickers = tickers_selecionados, period='3mo')['Volume']\n",
        "\n",
        "#Calcula a média de liquidez dos ativos.\n",
        "dados_volume = round(dados_volume.mean())\n",
        "\n",
        "#Seleciona apenas os ativos com liquidez maior que 1 Milhão.\n",
        "liquidez = dados_volume[dados_volume > 1000000]"
      ],
      "metadata": {
        "colab": {
          "base_uri": "https://localhost:8080/"
        },
        "id": "VIYu7dQm8bzq",
        "outputId": "b4be5bb4-29af-4013-b70b-792ef117598d",
        "cellView": "form"
      },
      "execution_count": 8,
      "outputs": [
        {
          "output_type": "stream",
          "name": "stderr",
          "text": [
            "[*********************100%%**********************]  276 of 276 completed\n"
          ]
        }
      ]
    },
    {
      "cell_type": "code",
      "source": [
        "# @title Nomeando colunas\n",
        "\n",
        "# Define o nome do índice como ATIVO.\n",
        "for df in [preco_teto, preco_atual, liquidez]:\n",
        "    df.index.name = \"ATIVO\"\n",
        "\n",
        "# Criando um DataFrame chamado 'df_preco_teto'.\n",
        "df_preco_atual = pd.DataFrame(preco_atual)\n",
        "\n",
        "# Criando um DataFrame chamado 'df_liquidez'.\n",
        "df_liquidez = pd.DataFrame(liquidez)\n",
        "\n",
        "# Criando um DataFrame chamado 'df_preco_teto'.\n",
        "df_preco_teto = pd.DataFrame(preco_teto)\n",
        "\n",
        "# Define o nome da coluna como \"PREÇO TETO\".\n",
        "df_preco_teto.columns = [\"PREÇO TETO\"]\n",
        "\n",
        "# Define o nome da coluna como \"PREÇO ATUAL\".\n",
        "df_preco_atual.columns = [\"PREÇO ATUAL\"]\n",
        "\n",
        "# Define o nome da coluna como \"LIQUIDEZ\".\n",
        "df_liquidez.columns = [\"LIQUIDEZ\"]\n",
        "\n",
        "# Remove os últimos 3 caracteres (\".SA\") de cada ativo dos DataFrames 'df_preco_teto, df_preco_atual, df_liquidez'.\n",
        "for df in [df_preco_teto, df_preco_atual, df_liquidez]:\n",
        "    df.index = df.index.str[:-3]\n"
      ],
      "metadata": {
        "id": "KYDBFIAyyaL8",
        "collapsed": true,
        "cellView": "form"
      },
      "execution_count": 9,
      "outputs": []
    },
    {
      "cell_type": "code",
      "source": [
        "# @title Criação do DataFrame de ações viaveis\n",
        "\n",
        "# Combina os DataFrames Preço Teto e Preço Atual.\n",
        "df_ativos = pd.merge(df_preco_teto, df_preco_atual, left_index=True, right_index=True)\n",
        "\n",
        "# Combina os DataFrames df_ativos e Liquidez filtrando para apenas ativos com Liquidez.\n",
        "df_ativos = pd.merge(df_ativos, df_liquidez, left_index=True, right_index=True)\n",
        "\n",
        "# Filtra o DataFrame para ativos com preço atual menor que o preço teto.\n",
        "df_ativos = df_ativos[df_ativos[\"PREÇO ATUAL\"] < df_ativos[\"PREÇO TETO\"]]\n"
      ],
      "metadata": {
        "cellView": "form",
        "id": "ReUkWM-AaihW"
      },
      "execution_count": 10,
      "outputs": []
    },
    {
      "cell_type": "code",
      "source": [
        "# @title Visualização do DataFrame\n",
        "\n",
        "df_ativos"
      ],
      "metadata": {
        "colab": {
          "base_uri": "https://localhost:8080/",
          "height": 771
        },
        "cellView": "form",
        "id": "jdHXM205bE6g",
        "outputId": "59137328-2504-4c15-f938-14e21cddc72f"
      },
      "execution_count": 11,
      "outputs": [
        {
          "output_type": "execute_result",
          "data": {
            "text/plain": [
              "        PREÇO TETO  PREÇO ATUAL    LIQUIDEZ\n",
              "ATIVO                                      \n",
              "BBDC3        14.97        14.20   7142192.0\n",
              "BBDC4        18.32        15.66  38214024.0\n",
              "BBSE3        40.57        36.99   4506767.0\n",
              "BRAP4        66.32        18.89   2855852.0\n",
              "BRSR6        16.32        12.59   1395064.0\n",
              "CMIG4        12.85        12.01  12598824.0\n",
              "CPFE3        40.37        33.77   1483070.0\n",
              "CSMG3        25.97        23.53   1464562.0\n",
              "CSNA3        22.81        12.25   6383621.0\n",
              "ENAT3        23.87        21.64   1515341.0\n",
              "GGBR4        23.76        18.28  10312621.0\n",
              "GOAU4        18.30        10.55   6373427.0\n",
              "JHSF3         4.82         4.46   4013936.0\n",
              "KEPL3        12.15        11.51   1011674.0\n",
              "PETR3       101.68        39.39   9280923.0\n",
              "PETR4        96.81        36.89  32459568.0\n",
              "QUAL3        13.35         1.98   3941927.0\n",
              "SANB11       38.80        31.29   4106197.0\n",
              "TAEE11       53.39        35.75   1717923.0\n",
              "TRPL4        34.19        25.17   3542055.0\n",
              "USIM5         8.62         6.58  14134453.0\n",
              "VALE3       101.89        57.40  21334917.0"
            ],
            "text/html": [
              "\n",
              "  <div id=\"df-2ece682a-a9b3-4af0-8eb0-fa5dc6ee32c1\" class=\"colab-df-container\">\n",
              "    <div>\n",
              "<style scoped>\n",
              "    .dataframe tbody tr th:only-of-type {\n",
              "        vertical-align: middle;\n",
              "    }\n",
              "\n",
              "    .dataframe tbody tr th {\n",
              "        vertical-align: top;\n",
              "    }\n",
              "\n",
              "    .dataframe thead th {\n",
              "        text-align: right;\n",
              "    }\n",
              "</style>\n",
              "<table border=\"1\" class=\"dataframe\">\n",
              "  <thead>\n",
              "    <tr style=\"text-align: right;\">\n",
              "      <th></th>\n",
              "      <th>PREÇO TETO</th>\n",
              "      <th>PREÇO ATUAL</th>\n",
              "      <th>LIQUIDEZ</th>\n",
              "    </tr>\n",
              "    <tr>\n",
              "      <th>ATIVO</th>\n",
              "      <th></th>\n",
              "      <th></th>\n",
              "      <th></th>\n",
              "    </tr>\n",
              "  </thead>\n",
              "  <tbody>\n",
              "    <tr>\n",
              "      <th>BBDC3</th>\n",
              "      <td>14.97</td>\n",
              "      <td>14.20</td>\n",
              "      <td>7142192.0</td>\n",
              "    </tr>\n",
              "    <tr>\n",
              "      <th>BBDC4</th>\n",
              "      <td>18.32</td>\n",
              "      <td>15.66</td>\n",
              "      <td>38214024.0</td>\n",
              "    </tr>\n",
              "    <tr>\n",
              "      <th>BBSE3</th>\n",
              "      <td>40.57</td>\n",
              "      <td>36.99</td>\n",
              "      <td>4506767.0</td>\n",
              "    </tr>\n",
              "    <tr>\n",
              "      <th>BRAP4</th>\n",
              "      <td>66.32</td>\n",
              "      <td>18.89</td>\n",
              "      <td>2855852.0</td>\n",
              "    </tr>\n",
              "    <tr>\n",
              "      <th>BRSR6</th>\n",
              "      <td>16.32</td>\n",
              "      <td>12.59</td>\n",
              "      <td>1395064.0</td>\n",
              "    </tr>\n",
              "    <tr>\n",
              "      <th>CMIG4</th>\n",
              "      <td>12.85</td>\n",
              "      <td>12.01</td>\n",
              "      <td>12598824.0</td>\n",
              "    </tr>\n",
              "    <tr>\n",
              "      <th>CPFE3</th>\n",
              "      <td>40.37</td>\n",
              "      <td>33.77</td>\n",
              "      <td>1483070.0</td>\n",
              "    </tr>\n",
              "    <tr>\n",
              "      <th>CSMG3</th>\n",
              "      <td>25.97</td>\n",
              "      <td>23.53</td>\n",
              "      <td>1464562.0</td>\n",
              "    </tr>\n",
              "    <tr>\n",
              "      <th>CSNA3</th>\n",
              "      <td>22.81</td>\n",
              "      <td>12.25</td>\n",
              "      <td>6383621.0</td>\n",
              "    </tr>\n",
              "    <tr>\n",
              "      <th>ENAT3</th>\n",
              "      <td>23.87</td>\n",
              "      <td>21.64</td>\n",
              "      <td>1515341.0</td>\n",
              "    </tr>\n",
              "    <tr>\n",
              "      <th>GGBR4</th>\n",
              "      <td>23.76</td>\n",
              "      <td>18.28</td>\n",
              "      <td>10312621.0</td>\n",
              "    </tr>\n",
              "    <tr>\n",
              "      <th>GOAU4</th>\n",
              "      <td>18.30</td>\n",
              "      <td>10.55</td>\n",
              "      <td>6373427.0</td>\n",
              "    </tr>\n",
              "    <tr>\n",
              "      <th>JHSF3</th>\n",
              "      <td>4.82</td>\n",
              "      <td>4.46</td>\n",
              "      <td>4013936.0</td>\n",
              "    </tr>\n",
              "    <tr>\n",
              "      <th>KEPL3</th>\n",
              "      <td>12.15</td>\n",
              "      <td>11.51</td>\n",
              "      <td>1011674.0</td>\n",
              "    </tr>\n",
              "    <tr>\n",
              "      <th>PETR3</th>\n",
              "      <td>101.68</td>\n",
              "      <td>39.39</td>\n",
              "      <td>9280923.0</td>\n",
              "    </tr>\n",
              "    <tr>\n",
              "      <th>PETR4</th>\n",
              "      <td>96.81</td>\n",
              "      <td>36.89</td>\n",
              "      <td>32459568.0</td>\n",
              "    </tr>\n",
              "    <tr>\n",
              "      <th>QUAL3</th>\n",
              "      <td>13.35</td>\n",
              "      <td>1.98</td>\n",
              "      <td>3941927.0</td>\n",
              "    </tr>\n",
              "    <tr>\n",
              "      <th>SANB11</th>\n",
              "      <td>38.80</td>\n",
              "      <td>31.29</td>\n",
              "      <td>4106197.0</td>\n",
              "    </tr>\n",
              "    <tr>\n",
              "      <th>TAEE11</th>\n",
              "      <td>53.39</td>\n",
              "      <td>35.75</td>\n",
              "      <td>1717923.0</td>\n",
              "    </tr>\n",
              "    <tr>\n",
              "      <th>TRPL4</th>\n",
              "      <td>34.19</td>\n",
              "      <td>25.17</td>\n",
              "      <td>3542055.0</td>\n",
              "    </tr>\n",
              "    <tr>\n",
              "      <th>USIM5</th>\n",
              "      <td>8.62</td>\n",
              "      <td>6.58</td>\n",
              "      <td>14134453.0</td>\n",
              "    </tr>\n",
              "    <tr>\n",
              "      <th>VALE3</th>\n",
              "      <td>101.89</td>\n",
              "      <td>57.40</td>\n",
              "      <td>21334917.0</td>\n",
              "    </tr>\n",
              "  </tbody>\n",
              "</table>\n",
              "</div>\n",
              "    <div class=\"colab-df-buttons\">\n",
              "\n",
              "  <div class=\"colab-df-container\">\n",
              "    <button class=\"colab-df-convert\" onclick=\"convertToInteractive('df-2ece682a-a9b3-4af0-8eb0-fa5dc6ee32c1')\"\n",
              "            title=\"Convert this dataframe to an interactive table.\"\n",
              "            style=\"display:none;\">\n",
              "\n",
              "  <svg xmlns=\"http://www.w3.org/2000/svg\" height=\"24px\" viewBox=\"0 -960 960 960\">\n",
              "    <path d=\"M120-120v-720h720v720H120Zm60-500h600v-160H180v160Zm220 220h160v-160H400v160Zm0 220h160v-160H400v160ZM180-400h160v-160H180v160Zm440 0h160v-160H620v160ZM180-180h160v-160H180v160Zm440 0h160v-160H620v160Z\"/>\n",
              "  </svg>\n",
              "    </button>\n",
              "\n",
              "  <style>\n",
              "    .colab-df-container {\n",
              "      display:flex;\n",
              "      gap: 12px;\n",
              "    }\n",
              "\n",
              "    .colab-df-convert {\n",
              "      background-color: #E8F0FE;\n",
              "      border: none;\n",
              "      border-radius: 50%;\n",
              "      cursor: pointer;\n",
              "      display: none;\n",
              "      fill: #1967D2;\n",
              "      height: 32px;\n",
              "      padding: 0 0 0 0;\n",
              "      width: 32px;\n",
              "    }\n",
              "\n",
              "    .colab-df-convert:hover {\n",
              "      background-color: #E2EBFA;\n",
              "      box-shadow: 0px 1px 2px rgba(60, 64, 67, 0.3), 0px 1px 3px 1px rgba(60, 64, 67, 0.15);\n",
              "      fill: #174EA6;\n",
              "    }\n",
              "\n",
              "    .colab-df-buttons div {\n",
              "      margin-bottom: 4px;\n",
              "    }\n",
              "\n",
              "    [theme=dark] .colab-df-convert {\n",
              "      background-color: #3B4455;\n",
              "      fill: #D2E3FC;\n",
              "    }\n",
              "\n",
              "    [theme=dark] .colab-df-convert:hover {\n",
              "      background-color: #434B5C;\n",
              "      box-shadow: 0px 1px 3px 1px rgba(0, 0, 0, 0.15);\n",
              "      filter: drop-shadow(0px 1px 2px rgba(0, 0, 0, 0.3));\n",
              "      fill: #FFFFFF;\n",
              "    }\n",
              "  </style>\n",
              "\n",
              "    <script>\n",
              "      const buttonEl =\n",
              "        document.querySelector('#df-2ece682a-a9b3-4af0-8eb0-fa5dc6ee32c1 button.colab-df-convert');\n",
              "      buttonEl.style.display =\n",
              "        google.colab.kernel.accessAllowed ? 'block' : 'none';\n",
              "\n",
              "      async function convertToInteractive(key) {\n",
              "        const element = document.querySelector('#df-2ece682a-a9b3-4af0-8eb0-fa5dc6ee32c1');\n",
              "        const dataTable =\n",
              "          await google.colab.kernel.invokeFunction('convertToInteractive',\n",
              "                                                    [key], {});\n",
              "        if (!dataTable) return;\n",
              "\n",
              "        const docLinkHtml = 'Like what you see? Visit the ' +\n",
              "          '<a target=\"_blank\" href=https://colab.research.google.com/notebooks/data_table.ipynb>data table notebook</a>'\n",
              "          + ' to learn more about interactive tables.';\n",
              "        element.innerHTML = '';\n",
              "        dataTable['output_type'] = 'display_data';\n",
              "        await google.colab.output.renderOutput(dataTable, element);\n",
              "        const docLink = document.createElement('div');\n",
              "        docLink.innerHTML = docLinkHtml;\n",
              "        element.appendChild(docLink);\n",
              "      }\n",
              "    </script>\n",
              "  </div>\n",
              "\n",
              "\n",
              "<div id=\"df-c81cbda9-1781-470c-a58b-3593ede80310\">\n",
              "  <button class=\"colab-df-quickchart\" onclick=\"quickchart('df-c81cbda9-1781-470c-a58b-3593ede80310')\"\n",
              "            title=\"Suggest charts\"\n",
              "            style=\"display:none;\">\n",
              "\n",
              "<svg xmlns=\"http://www.w3.org/2000/svg\" height=\"24px\"viewBox=\"0 0 24 24\"\n",
              "     width=\"24px\">\n",
              "    <g>\n",
              "        <path d=\"M19 3H5c-1.1 0-2 .9-2 2v14c0 1.1.9 2 2 2h14c1.1 0 2-.9 2-2V5c0-1.1-.9-2-2-2zM9 17H7v-7h2v7zm4 0h-2V7h2v10zm4 0h-2v-4h2v4z\"/>\n",
              "    </g>\n",
              "</svg>\n",
              "  </button>\n",
              "\n",
              "<style>\n",
              "  .colab-df-quickchart {\n",
              "      --bg-color: #E8F0FE;\n",
              "      --fill-color: #1967D2;\n",
              "      --hover-bg-color: #E2EBFA;\n",
              "      --hover-fill-color: #174EA6;\n",
              "      --disabled-fill-color: #AAA;\n",
              "      --disabled-bg-color: #DDD;\n",
              "  }\n",
              "\n",
              "  [theme=dark] .colab-df-quickchart {\n",
              "      --bg-color: #3B4455;\n",
              "      --fill-color: #D2E3FC;\n",
              "      --hover-bg-color: #434B5C;\n",
              "      --hover-fill-color: #FFFFFF;\n",
              "      --disabled-bg-color: #3B4455;\n",
              "      --disabled-fill-color: #666;\n",
              "  }\n",
              "\n",
              "  .colab-df-quickchart {\n",
              "    background-color: var(--bg-color);\n",
              "    border: none;\n",
              "    border-radius: 50%;\n",
              "    cursor: pointer;\n",
              "    display: none;\n",
              "    fill: var(--fill-color);\n",
              "    height: 32px;\n",
              "    padding: 0;\n",
              "    width: 32px;\n",
              "  }\n",
              "\n",
              "  .colab-df-quickchart:hover {\n",
              "    background-color: var(--hover-bg-color);\n",
              "    box-shadow: 0 1px 2px rgba(60, 64, 67, 0.3), 0 1px 3px 1px rgba(60, 64, 67, 0.15);\n",
              "    fill: var(--button-hover-fill-color);\n",
              "  }\n",
              "\n",
              "  .colab-df-quickchart-complete:disabled,\n",
              "  .colab-df-quickchart-complete:disabled:hover {\n",
              "    background-color: var(--disabled-bg-color);\n",
              "    fill: var(--disabled-fill-color);\n",
              "    box-shadow: none;\n",
              "  }\n",
              "\n",
              "  .colab-df-spinner {\n",
              "    border: 2px solid var(--fill-color);\n",
              "    border-color: transparent;\n",
              "    border-bottom-color: var(--fill-color);\n",
              "    animation:\n",
              "      spin 1s steps(1) infinite;\n",
              "  }\n",
              "\n",
              "  @keyframes spin {\n",
              "    0% {\n",
              "      border-color: transparent;\n",
              "      border-bottom-color: var(--fill-color);\n",
              "      border-left-color: var(--fill-color);\n",
              "    }\n",
              "    20% {\n",
              "      border-color: transparent;\n",
              "      border-left-color: var(--fill-color);\n",
              "      border-top-color: var(--fill-color);\n",
              "    }\n",
              "    30% {\n",
              "      border-color: transparent;\n",
              "      border-left-color: var(--fill-color);\n",
              "      border-top-color: var(--fill-color);\n",
              "      border-right-color: var(--fill-color);\n",
              "    }\n",
              "    40% {\n",
              "      border-color: transparent;\n",
              "      border-right-color: var(--fill-color);\n",
              "      border-top-color: var(--fill-color);\n",
              "    }\n",
              "    60% {\n",
              "      border-color: transparent;\n",
              "      border-right-color: var(--fill-color);\n",
              "    }\n",
              "    80% {\n",
              "      border-color: transparent;\n",
              "      border-right-color: var(--fill-color);\n",
              "      border-bottom-color: var(--fill-color);\n",
              "    }\n",
              "    90% {\n",
              "      border-color: transparent;\n",
              "      border-bottom-color: var(--fill-color);\n",
              "    }\n",
              "  }\n",
              "</style>\n",
              "\n",
              "  <script>\n",
              "    async function quickchart(key) {\n",
              "      const quickchartButtonEl =\n",
              "        document.querySelector('#' + key + ' button');\n",
              "      quickchartButtonEl.disabled = true;  // To prevent multiple clicks.\n",
              "      quickchartButtonEl.classList.add('colab-df-spinner');\n",
              "      try {\n",
              "        const charts = await google.colab.kernel.invokeFunction(\n",
              "            'suggestCharts', [key], {});\n",
              "      } catch (error) {\n",
              "        console.error('Error during call to suggestCharts:', error);\n",
              "      }\n",
              "      quickchartButtonEl.classList.remove('colab-df-spinner');\n",
              "      quickchartButtonEl.classList.add('colab-df-quickchart-complete');\n",
              "    }\n",
              "    (() => {\n",
              "      let quickchartButtonEl =\n",
              "        document.querySelector('#df-c81cbda9-1781-470c-a58b-3593ede80310 button');\n",
              "      quickchartButtonEl.style.display =\n",
              "        google.colab.kernel.accessAllowed ? 'block' : 'none';\n",
              "    })();\n",
              "  </script>\n",
              "</div>\n",
              "\n",
              "  <div id=\"id_746a8d57-bc54-4856-a49f-987d01d69817\">\n",
              "    <style>\n",
              "      .colab-df-generate {\n",
              "        background-color: #E8F0FE;\n",
              "        border: none;\n",
              "        border-radius: 50%;\n",
              "        cursor: pointer;\n",
              "        display: none;\n",
              "        fill: #1967D2;\n",
              "        height: 32px;\n",
              "        padding: 0 0 0 0;\n",
              "        width: 32px;\n",
              "      }\n",
              "\n",
              "      .colab-df-generate:hover {\n",
              "        background-color: #E2EBFA;\n",
              "        box-shadow: 0px 1px 2px rgba(60, 64, 67, 0.3), 0px 1px 3px 1px rgba(60, 64, 67, 0.15);\n",
              "        fill: #174EA6;\n",
              "      }\n",
              "\n",
              "      [theme=dark] .colab-df-generate {\n",
              "        background-color: #3B4455;\n",
              "        fill: #D2E3FC;\n",
              "      }\n",
              "\n",
              "      [theme=dark] .colab-df-generate:hover {\n",
              "        background-color: #434B5C;\n",
              "        box-shadow: 0px 1px 3px 1px rgba(0, 0, 0, 0.15);\n",
              "        filter: drop-shadow(0px 1px 2px rgba(0, 0, 0, 0.3));\n",
              "        fill: #FFFFFF;\n",
              "      }\n",
              "    </style>\n",
              "    <button class=\"colab-df-generate\" onclick=\"generateWithVariable('df_ativos')\"\n",
              "            title=\"Generate code using this dataframe.\"\n",
              "            style=\"display:none;\">\n",
              "\n",
              "  <svg xmlns=\"http://www.w3.org/2000/svg\" height=\"24px\"viewBox=\"0 0 24 24\"\n",
              "       width=\"24px\">\n",
              "    <path d=\"M7,19H8.4L18.45,9,17,7.55,7,17.6ZM5,21V16.75L18.45,3.32a2,2,0,0,1,2.83,0l1.4,1.43a1.91,1.91,0,0,1,.58,1.4,1.91,1.91,0,0,1-.58,1.4L9.25,21ZM18.45,9,17,7.55Zm-12,3A5.31,5.31,0,0,0,4.9,8.1,5.31,5.31,0,0,0,1,6.5,5.31,5.31,0,0,0,4.9,4.9,5.31,5.31,0,0,0,6.5,1,5.31,5.31,0,0,0,8.1,4.9,5.31,5.31,0,0,0,12,6.5,5.46,5.46,0,0,0,6.5,12Z\"/>\n",
              "  </svg>\n",
              "    </button>\n",
              "    <script>\n",
              "      (() => {\n",
              "      const buttonEl =\n",
              "        document.querySelector('#id_746a8d57-bc54-4856-a49f-987d01d69817 button.colab-df-generate');\n",
              "      buttonEl.style.display =\n",
              "        google.colab.kernel.accessAllowed ? 'block' : 'none';\n",
              "\n",
              "      buttonEl.onclick = () => {\n",
              "        google.colab.notebook.generateWithVariable('df_ativos');\n",
              "      }\n",
              "      })();\n",
              "    </script>\n",
              "  </div>\n",
              "\n",
              "    </div>\n",
              "  </div>\n"
            ],
            "application/vnd.google.colaboratory.intrinsic+json": {
              "type": "dataframe",
              "variable_name": "df_ativos",
              "summary": "{\n  \"name\": \"df_ativos\",\n  \"rows\": 22,\n  \"fields\": [\n    {\n      \"column\": \"ATIVO\",\n      \"properties\": {\n        \"dtype\": \"string\",\n        \"num_unique_values\": 22,\n        \"samples\": [\n          \"BBDC3\",\n          \"KEPL3\",\n          \"CSNA3\"\n        ],\n        \"semantic_type\": \"\",\n        \"description\": \"\"\n      }\n    },\n    {\n      \"column\": \"PRE\\u00c7O TETO\",\n      \"properties\": {\n        \"dtype\": \"number\",\n        \"std\": 30.0732879020252,\n        \"min\": 4.82,\n        \"max\": 101.89,\n        \"num_unique_values\": 22,\n        \"samples\": [\n          14.97,\n          12.15,\n          22.81\n        ],\n        \"semantic_type\": \"\",\n        \"description\": \"\"\n      }\n    },\n    {\n      \"column\": \"PRE\\u00c7O ATUAL\",\n      \"properties\": {\n        \"dtype\": \"number\",\n        \"std\": 13.841379832624915,\n        \"min\": 1.98,\n        \"max\": 57.4,\n        \"num_unique_values\": 22,\n        \"samples\": [\n          14.2,\n          11.51,\n          12.25\n        ],\n        \"semantic_type\": \"\",\n        \"description\": \"\"\n      }\n    },\n    {\n      \"column\": \"LIQUIDEZ\",\n      \"properties\": {\n        \"dtype\": \"number\",\n        \"std\": 10041142.122067532,\n        \"min\": 1011674.0,\n        \"max\": 38214024.0,\n        \"num_unique_values\": 22,\n        \"samples\": [\n          7142192.0,\n          1011674.0,\n          6383621.0\n        ],\n        \"semantic_type\": \"\",\n        \"description\": \"\"\n      }\n    }\n  ]\n}"
            }
          },
          "metadata": {},
          "execution_count": 11
        }
      ]
    },
    {
      "cell_type": "markdown",
      "source": [
        "### **Necessário conectar conta Google**"
      ],
      "metadata": {
        "id": "koCwOFJPKVDP"
      }
    },
    {
      "cell_type": "code",
      "source": [
        "# @title Verificação de dados e envio de saida para sheets\n",
        "import gspread\n",
        "from google.auth import default\n",
        "creds, _ = default()\n",
        "\n",
        "gc = gspread.authorize(creds)\n",
        "\n",
        "for ticker in df_ativos.index:\n",
        "  # Verifica se o preço teto em df_dados é igual ao preço teto em df_preco_atual\n",
        "  if df_ativos.loc[ticker, \"PREÇO ATUAL\"] != df_preco_atual.loc[ticker, \"PREÇO ATUAL\"]:\n",
        "    print(f\"O preço teto de {ticker} em df_dados é diferente do preço teto em df_preco_atual.\")\n",
        "\n",
        "for ticker in df_ativos.index:\n",
        "  # Verifica se o preço teto em df_dados é igual ao preço teto em df_preco_teto\n",
        "  if df_ativos.loc[ticker, \"PREÇO TETO\"] != df_preco_teto.loc[ticker, \"PREÇO TETO\"]:\n",
        "    print(f\"O preço teto de {ticker} em df_dados é diferente do preço teto em df_preco_teto.\")\n",
        "\n",
        "for ticker in df_ativos.index:\n",
        "  # Verifica se a liquidez em df_dados é igual a liquidez em df_liquidez\n",
        "  if df_ativos.loc[ticker, \"LIQUIDEZ\"] != df_liquidez.loc[ticker, \"LIQUIDEZ\"]:\n",
        "    print(f\"A liquidez de {ticker} em df_dados é diferente da liquidez em df_liquidez.\")\n",
        "\n",
        "# Cria e define a planilha que irá a saída dos dados\n",
        "gc.create('Ativos Viáveis')\n",
        "worksheet = gc.open('Ativos Viáveis').worksheet('Página1')\n",
        "\n",
        "# Limpa as colunas A até B na planilha especificada.\n",
        "worksheet.batch_clear([\"A:D\"])\n",
        "\n",
        "# Exporta o DataFrame 'df_preco_teto' para a planilha do Google Sheets, incluindo o índice.\n",
        "s(worksheet, df_ativos, include_index= 'true')"
      ],
      "metadata": {
        "cellView": "form",
        "id": "D8cSO5RLblXE"
      },
      "execution_count": 30,
      "outputs": []
    }
  ]
}